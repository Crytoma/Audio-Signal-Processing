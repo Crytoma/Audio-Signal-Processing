{
 "cells": [
  {
   "cell_type": "code",
   "execution_count": null,
   "metadata": {},
   "outputs": [],
   "source": [
    "# :: 5th December 2022 :: @5:58pm"
   ]
  },
  {
   "cell_type": "markdown",
   "metadata": {},
   "source": [
    "Time-Domain Features:\n",
    "- Amplitude envelope\n",
    "- Root-mean square energy\n",
    "- Zero-crossing rate\n",
    "- ..."
   ]
  },
  {
   "cell_type": "code",
   "execution_count": null,
   "metadata": {},
   "outputs": [],
   "source": []
  },
  {
   "cell_type": "markdown",
   "metadata": {},
   "source": [
    "Amplitude Envelope:\n",
    "- Maximum amplitude value of all samples in a frame.\n",
    "$$\n",
    "AE_t = \\substack{(t+1)\\times K - 1 \\\\ max \\\\ k=t \\times K}\n",
    "$$\n",
    "where $AE_t$ = amplitude envelope at frame $t$, $s(k)$ = amplitude of kth sample, $k=t\\times K$ = first sample of frame $t$ and $(t+1) \\times K - 1$ = last sample of frame t\n",
    "- In order to calculate the Amplitude Envelope for all frames we do the above.\n",
    "- Each maximum value in each sample is taken from the amplitude.\n",
    "- Gives a rough idea of loudness of the signal (amplitude is relative to intensity)\n",
    "- Problem however is that it is sensitive to outliers.\n",
    "    - Aka 0 amplitude and then 1 spike in the frame (the spike is not too representative of the frame)\n",
    "- Useful in onset detection, music genre classification.\n"
   ]
  },
  {
   "cell_type": "code",
   "execution_count": null,
   "metadata": {},
   "outputs": [],
   "source": []
  },
  {
   "cell_type": "markdown",
   "metadata": {},
   "source": [
    "Root-Mean Square energy:\n",
    "- RMS of all samples in a frame\n",
    "$$\n",
    "RMS_t = \\sqrt{\\frac{1}{k} \\times \\substack{(t+1) \\times K - 1 \\\\ \\sum \\\\ k=t \\times K} \\times s(k)^2}\n",
    "$$\n",
    "- Where s(k)^2 = Energy of kth sample\n",
    "- $\\substack{(t+1) \\times K - 1 \\\\ \\sum \\\\ k=t \\times K} \\times s(k)^2$ = Sum of energy for all samples in frame T\n",
    "- $\\frac{1}{k} \\times \\substack{(t+1) \\times K - 1 \\\\ \\sum \\\\ k=t \\times K} \\times s(k)^2$ = Mean of sum of energy\n",
    "- Apply root at end. Simple.\n",
    "- It is an indicator of loudness. ( Energy is strictly related to loudness.)\n",
    "- It is less sensitive to outliers than Amplitude Envelope (as we don't sample a single sample value for a frame but all the sample)\n",
    "- Used in audio segmentation, music genre classification.\n"
   ]
  },
  {
   "cell_type": "code",
   "execution_count": null,
   "metadata": {},
   "outputs": [],
   "source": []
  },
  {
   "attachments": {},
   "cell_type": "markdown",
   "metadata": {},
   "source": [
    "Zero-Crossing Rate:\n",
    "- Number of times a signal crosses the horizontal axis. Crosses 0...\n",
    "Equation:\n",
    "$$\n",
    "ZCR_t = \\frac{1}{2} \\times \\substack{(t+1) \\times K - 1 \\\\ \\sum \\\\ k=t\\times K} \\mid sgn(s(k)) - sgn(s(k+1)) \\mid\n",
    "$$\n",
    "-where sgn ( sign function ), where k = amplitude\n",
    "    - s(k) > 0 -> +1\n",
    "    - s(k) < 0 -> -1\n",
    "    - s(k) = 0 -> 0\n",
    "- We take sgn at k and take away sgn at k + 1. If sng at k is + and sgn at k+1 is + then we get 0. \n",
    "    - neg and + = 2\n",
    "\n",
    "Zero-Crossing Rate Applications\n",
    "- Recognition of percussive vs pitched sounds\n",
    "    - Percussive sounds tend to have quite random zero-crossing rates. Tend to change it quite a lot.\n",
    "    - Pitched sounds a lot more stable\n",
    "- Can be used as rudimentary monophonic pitch estimation algorithm\n",
    "    - Relationship in number of zero crossings and pitch.\n",
    "- We can use it for voice/unvoiced decision for speech signals.\n",
    "    - Because for dealing with voice signals we usually have a lower signal crossing rate vs unvoiced signals (voiced parts are noisier etc)"
   ]
  }
 ],
 "metadata": {
  "kernelspec": {
   "display_name": "Python 3",
   "language": "python",
   "name": "python3"
  },
  "language_info": {
   "name": "python",
   "version": "3.11.1"
  },
  "orig_nbformat": 4,
  "vscode": {
   "interpreter": {
    "hash": "e7370f93d1d0cde622a1f8e1c04877d8463912d04d973331ad4851f04de6915a"
   }
  }
 },
 "nbformat": 4,
 "nbformat_minor": 2
}
