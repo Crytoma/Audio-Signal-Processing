{
 "cells": [
  {
   "cell_type": "code",
   "execution_count": null,
   "metadata": {},
   "outputs": [],
   "source": [
    "# :: 02/12/2022 :: @2:15pm ::"
   ]
  },
  {
   "cell_type": "markdown",
   "metadata": {},
   "source": [
    "Sound:\n",
    "produced by a vibration of an object → these vibrations cause air molecules to oscillate and in turn change the air pressure which creates a wave. No one can hear you scream in space. \n",
    "\n",
    "Mechanical wave:\n",
    "(Sound is a mechanical wave) Sound is a mechanical wave that travels through space. The energy travels from one point to another. The medium that the mechanical wave travels through gets deformed and causes pressure and rarefaction spots in air.\n",
    "\n",
    "We can visualize all of this with a pressure plot called a sound-wave...the amplitude peaks in a sine wave of sound are the compression where the x-axis is the atmospheric pressure and amplitude dip is the rarefaction aka where the air particles are more sparse.\n",
    "\n",
    "A standard waveform represents this."
   ]
  },
  {
   "cell_type": "markdown",
   "metadata": {},
   "source": [
    "Waveform:\n",
    "A waveform carries multifactorial information such as frequency, intensity, temporal information and timbre etc. All of this comes from a 2D graph. Nice."
   ]
  },
  {
   "cell_type": "code",
   "execution_count": null,
   "metadata": {},
   "outputs": [],
   "source": []
  },
  {
   "cell_type": "markdown",
   "metadata": {},
   "source": [
    "Periodic and Aperiodic sound:\n",
    "\n",
    "All Waveforms are either :\n",
    "1) Periodic (Repeating, compressions and refractions are repeated.)\n",
    "    a) Simple (Single sine-wave)\n",
    "    b) Complex (Multiple superimposed sine-waves)\n",
    "\n",
    "2) Aperiodic (No periodicity in the audio signal)\n",
    "    a) Continuos (Noise)\n",
    "    b) Transient (Pulse [popping, clicks, bursts of energy])\n",
    "\n",
    "\n",
    "Waveform Equation:\n",
    "$$y(t) = A\\sin(2\\pi ft+\\phi)$$\n",
    "where A = amplitude, f = frequency, t = time and phi is the phase\n",
    "\n",
    "\n",
    "Parameters explained:\n",
    "\n",
    "Frequency $f$: the amount of time elapsed between two peaks or troughs in a waveform (also represented as Hz, hertz (number of cycles per second))\n",
    "$$f = 1 / T$$\n",
    "\n",
    "Amplitude $A$:\n",
    "How high or low the perturbation in air pressure is. The higher the amplitude...\n",
    "\n",
    "Phase $\\phi$:\n",
    "Tells us the position of the waveform at time zero."
   ]
  },
  {
   "cell_type": "code",
   "execution_count": null,
   "metadata": {},
   "outputs": [],
   "source": []
  },
  {
   "cell_type": "markdown",
   "metadata": {},
   "source": [
    "Frequency and amplitude:\n",
    "\n",
    "Higher frequency -> higher sound\n",
    "Meaning a smaller elapsed time between two amplitude peaks or troughs in a sinusoidal wave. (The periodical) \n",
    "Lower Frequency -> lower sound.\n",
    "\n",
    "\n",
    "Larger amplitude -> louder:\n",
    "A sine wave with a higher amplitude makes sense as it just measures the amount of perturbation in the air pressure. Higher = higher energy. "
   ]
  },
  {
   "cell_type": "code",
   "execution_count": null,
   "metadata": {},
   "outputs": [],
   "source": []
  },
  {
   "cell_type": "markdown",
   "metadata": {},
   "source": [
    "Hearing Ranges:\n",
    "\n",
    "Elephant = ~14hz-12khz\n",
    "\n",
    "Human = ~20hz-20khz\n",
    "\n",
    "Cat = ~48hz-75khz\n",
    "\n",
    "Dog = ~64-45khz\n",
    "\n",
    "Mouse = ~1khz-70khz\n",
    "\n",
    "Bat = ~7khz-200khz\n",
    "\n",
    "'Ultrasounds': \n",
    "\n",
    "Sounds past human audible range in the higher frequency."
   ]
  },
  {
   "cell_type": "code",
   "execution_count": null,
   "metadata": {},
   "outputs": [],
   "source": []
  },
  {
   "cell_type": "markdown",
   "metadata": {},
   "source": [
    "Pitch:\n",
    "\n",
    "(Concept for the perception of frequency):\n",
    "Is perceived logarithmically by us.\n",
    "\n",
    "Two frequencies are perceived similarly if they differ by a power of 2 (The concept of an octave)"
   ]
  },
  {
   "cell_type": "markdown",
   "metadata": {},
   "source": [
    "Midi Notes:\n",
    "\n",
    "Common and handy way of transferring information about pitch and notes.\n",
    "for instance MIDI 60 = C4 (note name)\n",
    "\n",
    "We have a pattern of notes which always repeat themselves. \n",
    "C1, D1, E1, F1, G1, A1 -> then we move up an octave.\n",
    "\n",
    "The note will sound the same but sound higher. Same tone but perceived as higher.\n",
    "C = Note, Number / 1,2,3,4... = the octave ( the interval between them0\n",
    "\n",
    "Midi = 69\n",
    "Note = A4\n",
    "Frequency = 440 Hz\n",
    "\n",
    "A5 = 81\n",
    "Note = A5\n",
    "Frequency = 880 Hz\n",
    "\n",
    "Thus if you plot this on a pitch-frequency chart since the distance from each octave is double it is a logarithmic graph curve. Y = Pitch (A0, A1 ...), X Axis = Frequency (Hz)\n",
    "\n",
    "The very concept of time and rhythm is somehow based on logarithmic functions."
   ]
  },
  {
   "cell_type": "markdown",
   "metadata": {},
   "source": [
    "Mapping Pitch to frequency:\n",
    "\n",
    "$$\n",
    "F(p) = 2\\frac{p-69}{12} * 440\n",
    "$$\n",
    "\n",
    "Where p = pitch and 440hz is the frequency at midi note 69 as p = 69 the whole thing = 1 * 440 = 440 = A4"
   ]
  },
  {
   "cell_type": "code",
   "execution_count": 7,
   "metadata": {},
   "outputs": [
    {
     "name": "stdout",
     "output_type": "stream",
     "text": [
      "Frequency of 60 (C4) = 261.6255653005986 Hz\n",
      "Frequency of 69 (A4) = 440.0 Hz\n"
     ]
    }
   ],
   "source": [
    "def pitch_to_frequency(pitch):\n",
    "    return pow(2, ((pitch - 69)) / 12) * 440\n",
    "\n",
    "print(f'Frequency of 60 (C4) = {pitch_to_frequency(60)} Hz')\n",
    "print(f'Frequency of 69 (A4) = {pitch_to_frequency(69)} Hz')"
   ]
  },
  {
   "cell_type": "markdown",
   "metadata": {},
   "source": [
    "Octave:\n",
    "\n",
    "Divided into 12 semi-tones that are equidistant.\n",
    "\n",
    "\n",
    "Relationship between subsequent pitches:\n",
    "$$\n",
    "F(p+1)/F(p)=2^{1/12} = 1.059\n",
    "$$\n",
    "\n",
    "Thus the ratio between two subsequent pitches is 1.059 (constant)"
   ]
  },
  {
   "cell_type": "code",
   "execution_count": null,
   "metadata": {},
   "outputs": [],
   "source": []
  },
  {
   "cell_type": "markdown",
   "metadata": {},
   "source": [
    "Cents:\n",
    "    \n",
    "An octave is divided into 1200 cents\n",
    "\n",
    "100 cents in a semitone\n",
    "\n",
    "Noticeable pitch difference for humans is usually ~10-25 cents"
   ]
  },
  {
   "cell_type": "code",
   "execution_count": null,
   "metadata": {},
   "outputs": [],
   "source": [
    "\n"
   ]
  }
 ],
 "metadata": {
  "kernelspec": {
   "display_name": "Python 3.10.8 64-bit",
   "language": "python",
   "name": "python3"
  },
  "language_info": {
   "codemirror_mode": {
    "name": "ipython",
    "version": 3
   },
   "file_extension": ".py",
   "mimetype": "text/x-python",
   "name": "python",
   "nbconvert_exporter": "python",
   "pygments_lexer": "ipython3",
   "version": "3.11.1"
  },
  "orig_nbformat": 4,
  "vscode": {
   "interpreter": {
    "hash": "e7370f93d1d0cde622a1f8e1c04877d8463912d04d973331ad4851f04de6915a"
   }
  }
 },
 "nbformat": 4,
 "nbformat_minor": 2
}
