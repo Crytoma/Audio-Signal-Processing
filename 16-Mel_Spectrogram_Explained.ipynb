{
 "cells": [
  {
   "cell_type": "code",
   "execution_count": 1,
   "metadata": {},
   "outputs": [],
   "source": [
    "# :: 19th December 2022 :: @6:58pm\n",
    "import numpy as np"
   ]
  },
  {
   "attachments": {},
   "cell_type": "markdown",
   "metadata": {},
   "source": [
    "Psychoacoustic Experiment:\n",
    "- 1st sample C2 - C4 -> (65 - 262Hz)\n",
    "- 2nd sample: G6 - A6 -> (1568 - 1760Hz)\n",
    "\n",
    "- Difference in hertz is the same but not the same from a perceptual perspective.\n",
    "- The way we perceive pitch is non-linear\n",
    "- We have better low pitch detection as we perceive frequency logarithmically\n",
    "    - If a vanilla spectrogram is expressed logarithmically then we will have trouble perceiving it well."
   ]
  },
  {
   "attachments": {},
   "cell_type": "markdown",
   "metadata": {},
   "source": [
    "Ideal Audio Feature\n",
    "- Time-frequency representation\n",
    "- Perceptually relevant amplitude representation.\n",
    "- Vanilla spectrograms cannot represent perceptually-relevant frequency representation.\n",
    "- We use Mel Spectrograms"
   ]
  },
  {
   "attachments": {},
   "cell_type": "markdown",
   "metadata": {},
   "source": [
    "Mel Spectrogram?:\n",
    "![](MEL_SCALE.png)\n",
    "- Mel = mel scale (is a perceptually relevant / informed scale for pitch.)\n",
    "Mel Scale\n",
    "- Logarithmic scale\n",
    "- Equal distances on the scale have same 'perceptual' distance\n",
    "- 1000Hz = 1000 Mel\n",
    "\n",
    "- Mel is an abbreviation from melody (pitch along with rythm makes melody mostly)\n",
    "\n",
    "Mel Scale Formulas:\n",
    "- $m = 2595 \\times \\log10(1+\\frac{f}{700})$\n",
    "- $f = 700(10^{m/2595} - 1)$"
   ]
  },
  {
   "cell_type": "code",
   "execution_count": 7,
   "metadata": {},
   "outputs": [],
   "source": [
    "def hertz_to_mel(frequency_in_hertz):\n",
    "    return (f'{2595 * np.log10(1 + (frequency_in_hertz / 700))}')"
   ]
  },
  {
   "cell_type": "code",
   "execution_count": 25,
   "metadata": {},
   "outputs": [],
   "source": [
    "def mel_to_hertz(mel_value):\n",
    "    return (f'{700 * (np.power(10, mel_value / 2595)-1)}')"
   ]
  },
  {
   "cell_type": "code",
   "execution_count": 27,
   "metadata": {},
   "outputs": [
    {
     "name": "stdout",
     "output_type": "stream",
     "text": [
      "Frequency of 5000Hz in mel = 2363.4658366331187\n",
      "Mel of 2363 in Hertz = 5002.702279138669\n"
     ]
    }
   ],
   "source": [
    "print(f'Frequency of 5000Hz in mel = {hertz_to_mel(5000)}')\n",
    "\n",
    "print(f'Mel of 2363 in Hertz = {mel_to_hertz(2364)}')"
   ]
  },
  {
   "attachments": {},
   "cell_type": "markdown",
   "metadata": {},
   "source": [
    "How to extract Mel Spectrograms:\n",
    "- 1. Extract the STFT\n",
    "- 2. Convert the amplitude to dBs\n",
    "- 3. Convert the frequencies to Mel scale"
   ]
  }
 ],
 "metadata": {
  "kernelspec": {
   "display_name": "Python 3",
   "language": "python",
   "name": "python3"
  },
  "language_info": {
   "codemirror_mode": {
    "name": "ipython",
    "version": 3
   },
   "file_extension": ".py",
   "mimetype": "text/x-python",
   "name": "python",
   "nbconvert_exporter": "python",
   "pygments_lexer": "ipython3",
   "version": "3.10.6"
  },
  "orig_nbformat": 4,
  "vscode": {
   "interpreter": {
    "hash": "319f406bde1a9ec9654c0a36c317b3f61dc0224f24644957f59aa72f43d0e859"
   }
  }
 },
 "nbformat": 4,
 "nbformat_minor": 2
}
