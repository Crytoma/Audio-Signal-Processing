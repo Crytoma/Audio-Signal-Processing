{
 "cells": [
  {
   "cell_type": "code",
   "execution_count": null,
   "metadata": {},
   "outputs": [],
   "source": [
    "# :: 27th December 2022 :: @4:06pm"
   ]
  },
  {
   "attachments": {},
   "cell_type": "markdown",
   "metadata": {},
   "source": [
    "Frequency-Domain Audio Features\n",
    "- Band energy ratio (BER)\n",
    "- Spectral Centroid (SC)\n",
    "- Bandwidth (BW)\n",
    "..."
   ]
  },
  {
   "attachments": {},
   "cell_type": "markdown",
   "metadata": {},
   "source": [
    "Extracting frequency domain features\n",
    "- Start from the waveform\n",
    "Apply STFT to get a spectrogram\n",
    "and then do feature computation to arrive at a feature (simplification obviously)\n"
   ]
  },
  {
   "attachments": {},
   "cell_type": "markdown",
   "metadata": {},
   "source": [
    "Math Conventions:\n",
    "- $m_t(n)$ -> Magnitude of signal at frequency bin n and frame t\n",
    "- $N$ -> Number of frequency bins"
   ]
  },
  {
   "attachments": {},
   "cell_type": "markdown",
   "metadata": {},
   "source": [
    "\n",
    "Band Energy Ratio:\n",
    "- Relation between the higher and lower frequency bands\n",
    "- Measure of how dominant the lower frequencies are\n",
    "Math:\n",
    "$$\n",
    "BER_t = \\frac{\\sum_{n=1}^{F-1}m_t(n)^2}{\\sum_{n=F}^{N} m_t(n)^2}\n",
    "$$\n",
    "- where m_t(n)^2 = power of the signal at time t,\n",
    "- F = split frequency (sum = sampled freq bin at F-1 and in numerator at n=F) (provides the difference between low and high freqs. (its just a horizontal cut off at a certain frequency threshold, its arbitrary, usually is 2000 hertz)),\n",
    "- where numerator is power in the lower frequency bands\n",
    "- where denominator has the opposite of that and power in the higher frequency bands where n=F (start summing at split frequency to N)"
   ]
  },
  {
   "attachments": {},
   "cell_type": "markdown",
   "metadata": {},
   "source": [
    "Band Energy Ratio Applications\n",
    "- Speech discrimination\n",
    "- Music genre classification"
   ]
  },
  {
   "attachments": {},
   "cell_type": "markdown",
   "metadata": {},
   "source": [
    "Spectral Centroid:\n",
    "- Centre of gravity of the magnitude spectrum\n",
    "- Frequency band where most of the energy is concentrated\n",
    "- It measures the brightness of sound\n",
    "\n",
    "Math (Spectral centroid at a given frame t):\n",
    "- Weighted mean of the frequency bins\n",
    "$$\n",
    "SC_t = \\frac{\\sum_{n=1}^{N} m_t(n) \\times n}{\\sum_{n=1}^{N} m_t(n)}\n",
    "$$\n",
    "- where n = frequency bin\n",
    "- $m_t(n)$ = magnitude for that frame t\n",
    "- $\\sum_{n=1}^{N} m_t(n)$ = sum of weights\n",
    "\n",
    "Spectral Centroid Applications:\n",
    "- Audio classifiers\n",
    "- Music classifiers"
   ]
  },
  {
   "attachments": {},
   "cell_type": "markdown",
   "metadata": {},
   "source": [
    "Bandwidth:\n",
    "- Derived from the spectral centroid\n",
    "- Spectral range around the centroid\n",
    "- Variance from the spectral centroid\n",
    "- Describe perceived timbre\n",
    "- It is the weighted mean of the distances of frequency bands from S.C\n",
    "\n",
    "Bandwidth Math at specific frame t:\n",
    "$$\n",
    "BW_t = \\frac{\\sum_{n=1}^N |n-SC_t| \\times m_t(n)}{\\sum_{n=1}^N m_t(n)}\n",
    "$$\n",
    "- where n = frequency band\n",
    "- SC = spectral centroid value at time t\n",
    "- where $m_t(n)$ is the weight for the magnitude for the signal at time t at frequency band n\n",
    "- where $|n-SC_t|$ is the distance of frequency band from spectral centroid\n",
    "\n",
    "- An increase of Energy spread across frequency bands -> Bandwidth increases\n",
    "- And thus if energy spread across frequency bands lowers -> the bandwidth decreases.\n",
    "\n",
    "The difference between bandwidth and the spectral spread is thus the same thing.\n",
    "\n",
    "Bandwidth Applications:\n",
    "- Music processing, genre - moods etc\n",
    "\n",
    "All of these frequency domain features are less used (we now use raw-like data representations)"
   ]
  },
  {
   "cell_type": "code",
   "execution_count": null,
   "metadata": {},
   "outputs": [],
   "source": []
  }
 ],
 "metadata": {
  "kernelspec": {
   "display_name": "Python 3",
   "language": "python",
   "name": "python3"
  },
  "language_info": {
   "name": "python",
   "version": "3.10.6 (main, Oct  7 2022, 20:19:58) [GCC 11.2.0]"
  },
  "orig_nbformat": 4,
  "vscode": {
   "interpreter": {
    "hash": "319f406bde1a9ec9654c0a36c317b3f61dc0224f24644957f59aa72f43d0e859"
   }
  }
 },
 "nbformat": 4,
 "nbformat_minor": 2
}
