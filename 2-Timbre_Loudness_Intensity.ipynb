{
 "cells": [
  {
   "cell_type": "code",
   "execution_count": null,
   "metadata": {},
   "outputs": [],
   "source": [
    "# :: 2nd December 2022 :: @20:13:47"
   ]
  },
  {
   "cell_type": "markdown",
   "metadata": {},
   "source": [
    "Sound Power:\n",
    "\n",
    "Physical measure of the rate at which energy is transferred.\n",
    "\n",
    "In audio = (Energy per unit of time emitted by a sound source in all directions)\n",
    "\n",
    "Measured in watts (W)"
   ]
  },
  {
   "cell_type": "code",
   "execution_count": null,
   "metadata": {},
   "outputs": [],
   "source": []
  },
  {
   "cell_type": "markdown",
   "metadata": {},
   "source": [
    "Sound intensity:\n",
    "\n",
    "It is simply sound power per unit area\n",
    "\n",
    "Measured in $W/m^2$\n",
    "\n",
    "Higher -> Louder perception of loudness.\n",
    "\n",
    "How much power does thunder have? Or orchestra? \n",
    "\n",
    "Around 1 Watt of sound power.\n",
    "\n",
    "A lightbulb used to be around 100Watts so in sense of power an orchestra is a tenth of that of a traditional lightbulb. \n",
    "\n",
    "\n"
   ]
  },
  {
   "cell_type": "code",
   "execution_count": null,
   "metadata": {},
   "outputs": [],
   "source": []
  },
  {
   "cell_type": "markdown",
   "metadata": {},
   "source": [
    "Threshold of hearing:\n",
    "\n",
    "This implies that the threshold of hearing for humans is quite low and humans can perceive sounds with very small intensities.\n",
    "\n",
    "Equation for Threshold of hearing:\n",
    "$$\n",
    "TOH = 10^{-12} \\times W / m^2\n",
    "$$"
   ]
  },
  {
   "cell_type": "code",
   "execution_count": null,
   "metadata": {},
   "outputs": [],
   "source": []
  },
  {
   "cell_type": "markdown",
   "metadata": {},
   "source": [
    "Threshold of pain:\n",
    "    \n",
    "$$\n",
    "TOP = 10 \\times W / m^2\n",
    "$$\n",
    "\n",
    "The range of intensity we can perceive is enormous around 13 orders of magnitude."
   ]
  },
  {
   "cell_type": "code",
   "execution_count": null,
   "metadata": {},
   "outputs": [],
   "source": []
  },
  {
   "cell_type": "markdown",
   "metadata": {},
   "source": [
    "Intensity Level:\n",
    "\n",
    "Represented on a logarithmic scale\n",
    "\n",
    "Measured in decibels (dB)\n",
    "\n",
    "This is a ratio between two intensity values sometimes used against reference of the Threshold of Hearing (TOH) then compared against a current like intensity. \n",
    "\n",
    "The function that describes this is:\n",
    "$$\n",
    "dB(I) = 10 * log_{10}(\\frac{I}{I_{TOH}})\n",
    "$$\n",
    "Where I = Intensity and TOH = Intensity of hearing.\n",
    "\n",
    "\n",
    "What is 0 decibels?\n",
    "\n",
    "$$\n",
    "dB(I_{TOH}) = 10 \\times log_{10} \\times (\\frac{I_{TOH}}{I_{TOH}}) = 0\n",
    "$$\n",
    "as log(1) = 0\n",
    "\n",
    "This comparison does depend on the reference of intensity being used such as Threshold of hearing.\n",
    "\n",
    "\n",
    "The intensity level ~3 dBs, the intensity tends to double."
   ]
  },
  {
   "cell_type": "code",
   "execution_count": null,
   "metadata": {},
   "outputs": [],
   "source": []
  },
  {
   "cell_type": "markdown",
   "metadata": {},
   "source": [
    "Loudness:\n",
    "\n",
    "While intensity and power are two objective measures, loudness is a subjective measure and how loud we perceive a sound. Pitch etc (relative subjective measure of frequency correlates to frequency but it is subjective in a sense and not linear mapped)\n",
    "\n",
    "Loudness depends on:\n",
    "\n",
    "Subjective perception of sound intensity\n",
    "\n",
    "Depends on duration and frequency of a sound.\n",
    "\n",
    "Depends on age\n",
    "\n",
    "Measured in phons.\n",
    "\n",
    "\n",
    "Researchers did a lot of sound perception and decided to measure using phons.\n",
    "\n",
    "\n",
    "\n",
    "Equal loudness contours:\n",
    "\n",
    "![](EQC.png)"
   ]
  },
  {
   "cell_type": "markdown",
   "metadata": {},
   "source": [
    "Can be seen that 5k or so will be the most unbearable and highest perceived sound frequency that needs the least sound pressure. We are most efficient in the human speaking and singing frequency ranges."
   ]
  },
  {
   "cell_type": "code",
   "execution_count": null,
   "metadata": {},
   "outputs": [],
   "source": []
  },
  {
   "cell_type": "markdown",
   "metadata": {},
   "source": [
    "Timbre:\n",
    "\n",
    "We don't really know and comprehensibly know what it is.\n",
    "\n",
    "Typically seen as the colour of sound.\n",
    "\n",
    "Programmatically it can be seen as the difference between two equal sounds that have the same intensity, frequency and duration.\n",
    "\n",
    "Described usually as bright, dark, dull, harsh and warm etc. Fuzzy words.\n",
    "\n",
    "Timbre is multidimensional. ( Many features come in to place define timbre ):\n",
    "\n",
    "Sound envelope (Attack-Decay-Sustain-Release Model):\n",
    "![](ADSRM.png)\n",
    "\n",
    "For example the attack of a piano key hammer onto a string is that transient attack sound. ( Removing the attack from a piano it is hard to tell that it is a piano...)"
   ]
  },
  {
   "cell_type": "code",
   "execution_count": null,
   "metadata": {},
   "outputs": [],
   "source": []
  },
  {
   "cell_type": "markdown",
   "metadata": {},
   "source": [
    "Harmonic content:\n",
    "\n",
    "A complex sound is made up of a superimposition of many sinusoids.\n",
    "\n",
    "A partial is a sinusoid used to describe a sound.\n",
    "\n",
    "the lowest partial is called the fundamental frequency\n",
    "\n",
    "The harmonic partial is a frequency that is a multiple of the fundamental frequency (integer multiple)\n",
    "\n",
    "Eg: $f_1 = 440Hz, f_2 \\times 440Hz = 880Hz, f_3 = 3 \\times 440Hz = 1320Hz, ...$\n",
    "\n",
    "Not all sounds are perfectly harmonic aka: Inharmonicity indicates a deviation from the harmonic partial.\n",
    "eG stringed instruments are known to be harmonic whilst drums etc percussive instruments are known to be inharmonic.\n"
   ]
  },
  {
   "cell_type": "code",
   "execution_count": null,
   "metadata": {},
   "outputs": [],
   "source": []
  },
  {
   "cell_type": "markdown",
   "metadata": {},
   "source": [
    "Amplitude / frequency modulation.\n",
    "\n",
    "FM is also called vibrato. This is periodic variation in frequency. In mused this is used for expressive purposes."
   ]
  },
  {
   "cell_type": "code",
   "execution_count": null,
   "metadata": {},
   "outputs": [],
   "source": []
  },
  {
   "cell_type": "markdown",
   "metadata": {},
   "source": [
    "Amplitude Modulation:\n",
    "\n",
    "This is tremolo\n",
    "\n",
    "Periodic variation in amplitude\n",
    "\n",
    "In music this is again used in expressive purposes."
   ]
  },
  {
   "cell_type": "code",
   "execution_count": null,
   "metadata": {},
   "outputs": [],
   "source": []
  }
 ],
 "metadata": {
  "kernelspec": {
   "display_name": "Python 3",
   "language": "python",
   "name": "python3"
  },
  "language_info": {
   "name": "python",
   "version": "3.11.1"
  },
  "orig_nbformat": 4,
  "vscode": {
   "interpreter": {
    "hash": "e7370f93d1d0cde622a1f8e1c04877d8463912d04d973331ad4851f04de6915a"
   }
  }
 },
 "nbformat": 4,
 "nbformat_minor": 2
}
