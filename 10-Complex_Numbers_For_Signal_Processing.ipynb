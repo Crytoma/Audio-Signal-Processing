{
 "cells": [
  {
   "cell_type": "code",
   "execution_count": null,
   "metadata": {},
   "outputs": [],
   "source": [
    "#:: 8th December 2022 :: @1:48pm"
   ]
  },
  {
   "cell_type": "markdown",
   "metadata": {},
   "source": [
    "Complex Numbers for Audio Signal Processing:\n",
    "- Fourier transform gets you -> magnitude and phase\n",
    "- Magnitude is a real number\n",
    "- ... something to deal with both magnitude + phase (both params at once)\n",
    "    - It's complex numbers"
   ]
  },
  {
   "cell_type": "code",
   "execution_count": null,
   "metadata": {},
   "outputs": [],
   "source": []
  },
  {
   "cell_type": "markdown",
   "metadata": {},
   "source": [
    "The Genesis of Complex Numbers\n",
    "- Mathematicians have been scared of... $\\sqrt(-1)$ (neg nums)\n",
    "    - No way we can solve such things\n",
    "- Deal with it by using $i^2 = -1$\n",
    "    - Imaginary number...\n",
    "\n",
    "- In signal processing imaginary numbers are used ubiquitously"
   ]
  },
  {
   "cell_type": "code",
   "execution_count": null,
   "metadata": {},
   "outputs": [],
   "source": []
  },
  {
   "attachments": {},
   "cell_type": "markdown",
   "metadata": {},
   "source": [
    "Complex Number:\n",
    "$$\n",
    "c = a + ib  \\space \\space a,b \\in \\R\n",
    "$$\n",
    "- where a = real part\n",
    "- ib = imaginary part\n",
    "\n",
    "Since they have to separate axis why not put them on planes.... OK\n",
    "\n",
    "Plotting complex numbers on a complex plane:\n",
    "- X axis = real axis\n",
    "- Y axis = imaginary axis\n",
    "\n",
    "Cartesian coordinates:\n",
    "\n",
    "![](CARTESIAN_COORDINATES.png)\n",
    "\n",
    "\n",
    "\n",
    "You can also use the polar coordinate representation:\n",
    "![](POLAR_COORDINATE_REPRESENTATION.png)"
   ]
  },
  {
   "attachments": {},
   "cell_type": "markdown",
   "metadata": {},
   "source": [
    "- Moving from the cartesian to polar we need 2 parameters:\n",
    "    - a = real, b = imaginary\n",
    "    - Absolute value of c $|c|$ (line of origin to complex number)\n",
    "        - $|c| = \\sqrt{a^2 + b^2}$, where a = real number and b = imaginary part\n",
    "    - Need gamma angle ( angle between positive real axis and line that connects origin to the complex number )\n",
    "        - $cos(\\gamma) = \\frac{a}{|c|}$\n",
    "        - $sin(\\gamma) = \\frac{b}{|c|}$\n",
    "        - Thus\n",
    "            - $tan(\\gamma) = \\frac{sin(\\gamma)}{cos(\\gamma)} = \\frac{b}{a}$\n",
    "        - To get gamma = $\\gamma = arctan(\\frac{b}{a})$\n",
    "        - $|c| = \\sqrt{a^2 + b^2}$\n",
    "\n",
    "- Polar Coordinates (move from cartesian)\n",
    "    - $a = |c| \\times cos(\\gamma), \\space b = |c| \\times sin(\\gamma)\n",
    "    - $c = a + ib$\n",
    "    - thus, $c = |c| \\times (cos(\\gamma) + i \\times sin(\\gamma))$\n",
    "\n",
    "- the magnitude can be mapped in some way to |c| and phase to the angle."
   ]
  },
  {
   "attachments": {},
   "cell_type": "markdown",
   "metadata": {},
   "source": [
    "Euler Formula:\n",
    "- $e^{i\\gamma} = cos(\\gamma) + i \\times sin(\\gamma)$, where e = the base of the natural logarithm.\n",
    "\n",
    "Euler identity\n",
    "- $e^{i\\pi} + 1 = 0$\n",
    "    - for it to work $e^{i\\pi}$ must  = -1\n",
    "    - remember $e^{i\\gamma} = cos(\\gamma) + i \\times sin(\\gamma)$, $cos(\\pi) = -1$, + $i \\times sin(\\pi)$ = 0, thus gives us -1"
   ]
  },
  {
   "attachments": {},
   "cell_type": "markdown",
   "metadata": {},
   "source": [
    "Polar Coordinates 2.0\n",
    "- $c = |c| \\times (cos(\\gamma) + i \\times sin(\\gamma))$\n",
    "- $e^{i\\gamma} = cos(\\gamma) + i \\times sin(\\gamma)$\n",
    "- Something to note:\n",
    "    - $cos(\\gamma) + i \\times sin(\\gamma) = e^{i\\gamma}$\n",
    "    - thus we can rewrite as: $c = |c| \\times e^{i\\gamma}$"
   ]
  },
  {
   "attachments": {},
   "cell_type": "markdown",
   "metadata": {},
   "source": [
    "Polar Coordinates Interpretation:\n",
    "- $c = |c| \\times e^{i\\gamma}$\n",
    "    - $e^{i\\gamma}$, traces the unit circle in the complex plane, counter clock-wise (the direction of a number in the complex plane).\n",
    "    - |c|, scales the distance form the origin.\n",
    "        - Starting with 1 we rest on the unit circle.\n",
    "        - Abs(c) = 2 then we double the distance of the origin but stay in the same direction. (Obviously since it is a scalar.)\n",
    "- $|c|$, will be our way of getting the magnitude.\n",
    "- $e^{i\\gamma}$, will be our way of getting the phase."
   ]
  }
 ],
 "metadata": {
  "kernelspec": {
   "display_name": "Python 3.11.0 64-bit",
   "language": "python",
   "name": "python3"
  },
  "language_info": {
   "name": "python",
   "version": "3.11.1"
  },
  "orig_nbformat": 4,
  "vscode": {
   "interpreter": {
    "hash": "e7370f93d1d0cde622a1f8e1c04877d8463912d04d973331ad4851f04de6915a"
   }
  }
 },
 "nbformat": 4,
 "nbformat_minor": 2
}
