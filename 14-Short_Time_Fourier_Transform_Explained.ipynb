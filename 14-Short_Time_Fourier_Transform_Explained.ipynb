{
 "cells": [
  {
   "cell_type": "code",
   "execution_count": null,
   "metadata": {},
   "outputs": [],
   "source": [
    "# :: 16th December 2022 :: @7:25pm"
   ]
  },
  {
   "attachments": {},
   "cell_type": "markdown",
   "metadata": {},
   "source": [
    "Short-Time Fourier Transform\n",
    "- Enables the extraction of spectrograms\n",
    "    - Most useful feature for deep learning audio models.\n",
    "- We will go from the frequency domain.\n",
    "- This will be useful as the standard fourier transformation takes the frequencies across time as averages but not as a representation across time. It is more helpful to know the evolution of the audio signal across time.\n",
    "- We apply FFT locally to small segments of the signal in this case. (Each frame)"
   ]
  },
  {
   "attachments": {},
   "cell_type": "markdown",
   "metadata": {},
   "source": [
    "STFT Intuition:\n",
    "- Apply FFT to the current frame to get magnitude spectrum.\n",
    "- Then apply it again and again to the whole duration of the signal.\n",
    "- Derive these segments through windowing the signal.\n",
    "$$\n",
    "x_w(k) = x(k) \\times w(k)\n",
    "$$\n",
    "- where w(k) = window function sample to obtain windowed signal\n",
    "- Multiplying the whole original signal by the windowing function simply gives us the segment that we wanted without any more of the signal.\n",
    "\n",
    "\n",
    "- Window size and frame size are both measured in samples.\n",
    "    - Window size is the amount of samples we apply windowing to\n",
    "    - Frame size is the number of samples we consider in each chunk of the when we pass the STFT to... usually window size = frame size\n",
    "    - Sometimes the frame size is larger than the window size, however this doesn't always happen and usually coincides.\n",
    "    - Eg in librosa the default window size is the window size:\n",
    "    - If however\n",
    "        - The window is smaller than the frame then we zero pad them.\n",
    "\n",
    "- The frames overlap usually, thus we use a hop size (H)\n",
    "    - Provides how many samples to slide to the right when we take a new frame."
   ]
  },
  {
   "cell_type": "code",
   "execution_count": null,
   "metadata": {},
   "outputs": [],
   "source": []
  },
  {
   "attachments": {},
   "cell_type": "markdown",
   "metadata": {},
   "source": [
    "From DFT to STFT:\n",
    "$$\n",
    "\\hat(x)(k) = \\sum_{n=0}^{N-1} x(n) \\times e^{-i2\\pi n \\frac{k}{N}}\n",
    "$$\n",
    "- where k is a proxy / frequency ()\n",
    "- N = whole signal\n",
    "- x(n) = whole signal\n",
    "$$\n",
    "S(m,k) = \\sum_{n=0}{N-1} x(n+mH) \\times w(n) \\times e^{-i2\\pi n \\frac{k}{N}}\n",
    "$$\n",
    "- S depends on m (proxy for time) and k (proxy for frequency)\n",
    "- m, nominally is the frame number we are currently in.\n",
    "    - eg m = 2 on frame 2.\n",
    "- Two sums are summing across all the duration of the signal (N = all samples in signal in DFT meanwhile in STFT the N = current frame....)\n",
    "- x(n + mH) where mH = starting sample of the current frame where H is the hop size and m = frame. n = moves from 0 onwards and covers all samples in the frame.\n",
    "- Signal is multiplied by w(n) where it is the windowing function (chop all signal off except current windowed signal for that one frame)\n",
    "- Last step is the same for both which multiplies by a pure tone and decompose and project the pure tone with frequency.\n"
   ]
  },
  {
   "cell_type": "code",
   "execution_count": null,
   "metadata": {},
   "outputs": [],
   "source": []
  },
  {
   "attachments": {},
   "cell_type": "markdown",
   "metadata": {},
   "source": [
    "Outputs:\n",
    "- DFT\n",
    "    - Extract a spectral vector (for a number of frequency bins) we get a fourier coeff for each of the frequency components we decomposed our original signal into. This is a vector, a single dimensional array. No mention of time.\n",
    "- STFT\n",
    "    - We have a two dimensional array, spectral matrix with (# frequency bins, # frames), where the frames are proxies for time\n",
    "    - Complex fourier coefficients.\n",
    "\n",
    "- #Frequency bins (DFT freq bins = number of samples in whole signal, meanwhile STFT bins are for the current frame then Nyquist halved):\n",
    "    - $\\frac{framesize}{2}+1$\n",
    "        - We don't need all the bin information in STFT so we / 2\n",
    "- #Frames:\n",
    "    - $\\frac{samples - framesize}{hopsize} + 1$"
   ]
  },
  {
   "cell_type": "code",
   "execution_count": null,
   "metadata": {},
   "outputs": [],
   "source": []
  },
  {
   "attachments": {},
   "cell_type": "markdown",
   "metadata": {},
   "source": [
    "Example STFT output:\n",
    " - Signal = 10k samples\n",
    " - Frame size = 1000\n",
    " - Hop size = 500\n",
    "\n",
    "#Freq bins = 1000/2+1 = 501 freq bins\n",
    "    - The freq range is (0hz, sampling rate/2)\n",
    "#Frames = (10000-1000) / 500+1 = 19 frames\n",
    "\n",
    "This this STFT output shape is a 2 dimensional array of (501, 19) -> freq,temporal\n",
    "\n",
    "\n",
    "STFT Params:\n",
    "\n",
    "Parameter #1 = Frame Size\n",
    "    - Usually measured in samples (512,1024,2048...)\n",
    "        - Needed as we can use FFT for power of 2 numbers. (More efficient)\n",
    "\n",
    "Time / Frequency trade off\n",
    "- Large frame size = larger freq resolution = lower time resolution\n",
    "    - More freq bins = larger freq res\n",
    "    - More samples means considering a larger amount of time thus lower time resolution\n",
    "\n",
    "- Smaller frame size = smaller freq resolution = higher time resolution\n",
    "    - Less time used, fourier transform calculated on smaller chunks of time.\n",
    "\n",
    "- we solve this using heuristics and some trade-offs, depends on the problem you are solving.\n",
    "- Onset detection (time resolution)\n",
    "- De-noising (freq resolution + some time)\n",
    "\n",
    "\n",
    "Parameter #2 = HOP SIZE:\n",
    "- Number of samples we slide to the right when we want a new frame\n",
    "- Power of two size (256, 512,1024...)\n",
    "- Can be defined as a fraction of the frame size eg 1/2 K, 1/4 K, 1/8 K\n",
    "\n",
    "\n",
    "Parameter #3 = Windowing function:\n",
    "- STFT is not only a function of the signal itself but also of the windowing function that we choose. Different windowing functions will modulate the signal differently.\n",
    "- Rectangle window function not used at all as it creates discontinuities on the edges.\n",
    "- Usually use a bell shaped curve\n",
    "    - Hann window\n",
    "\n",
    "\n",
    "Hann Window equation:\n",
    "$$\n",
    "w(k) = 0.5 \\times (1 - \\cos(\\frac{2\\pi k}{K -1})), k = 1...K\n",
    "$$\n",
    "Apply a weight multiplication across thee sample to eventually taper the signal."
   ]
  },
  {
   "cell_type": "code",
   "execution_count": null,
   "metadata": {},
   "outputs": [],
   "source": []
  },
  {
   "attachments": {},
   "cell_type": "markdown",
   "metadata": {},
   "source": [
    "Visualising Sound:\n",
    "$$\n",
    "Y(m,k) = |S(m,k)|^2\n",
    "$$\n"
   ]
  }
 ],
 "metadata": {
  "language_info": {
   "name": "python"
  },
  "orig_nbformat": 4
 },
 "nbformat": 4,
 "nbformat_minor": 2
}
