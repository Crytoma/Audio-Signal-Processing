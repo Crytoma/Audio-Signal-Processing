{
 "cells": [
  {
   "cell_type": "code",
   "execution_count": null,
   "metadata": {},
   "outputs": [],
   "source": [
    "# :: 4th December 2022 :: @2:12pm"
   ]
  },
  {
   "cell_type": "markdown",
   "metadata": {},
   "source": [
    "Time-Feature Pipeline:\n",
    "- 1) ADC first. (Sample and quantize)\n",
    "- 2) Framing (bundle together samples, they are overlapped)\n",
    "\n",
    "Frames\n",
    "- Perceivable audio chunks\n",
    "    - Issue is 1 sample @ 44.1khz = 0.0227ms\n",
    "    - Duration of 1 sample << Ear time resolution (~10ms)\n",
    "- Usually in the power of 2 samples.\n",
    "    - Fast fourier transform speeds up having ^2 samples.\n",
    "- Typical frame value vary from 256-8192\n",
    "\n",
    "Frame Duration:\n",
    "$$\n",
    "d_f = \\frac{1}{s_r} \\times K\n",
    "$$\n",
    "where s_r = sampling rate, K = frame size and d = duration of a frame"
   ]
  },
  {
   "cell_type": "code",
   "execution_count": 3,
   "metadata": {},
   "outputs": [
    {
     "name": "stdout",
     "output_type": "stream",
     "text": [
      "Frame size 512 at sampling rate 44100hz = 0.011609977324263039 aka 11.6milliseconds\n"
     ]
    }
   ],
   "source": [
    "def frame_duration(sampling_rate, frame_size):\n",
    "    return (1 / sampling_rate) * frame_size\n",
    "\n",
    "print(f'Frame size 512 at sampling rate 44100hz = {frame_duration(44100, 512)} aka 11.6milliseconds which is just within the ~10ms ear discernibility range')"
   ]
  },
  {
   "cell_type": "markdown",
   "metadata": {},
   "source": [
    "Time to compute time domain features on each frame after framing.\n",
    "\n",
    "Then aggregate certain results such as means, medians and GMM (Gaussian mixture models) for a feature vector of the entire file."
   ]
  },
  {
   "cell_type": "code",
   "execution_count": null,
   "metadata": {},
   "outputs": [],
   "source": []
  },
  {
   "cell_type": "markdown",
   "metadata": {},
   "source": [
    "Frequency-Domain Feature Pipeline:\n",
    "- ADC -> Framing -> move from time domain to the frequency domain (using fourier transformation)"
   ]
  },
  {
   "cell_type": "code",
   "execution_count": null,
   "metadata": {},
   "outputs": [],
   "source": []
  },
  {
   "cell_type": "markdown",
   "metadata": {},
   "source": [
    "Spectral Leakage\n",
    "- Processed signal is not an integer number of periods. Happens all the time. There is a certain amount fo time of audio and is rarely hte number of case that the frames are whole integers.\n",
    "- aka Endpoints are discontinuous.\n",
    "- Discontinuities appear as high-frequency components not present in the original signal (they are artifacts due to discontinuities with the fourier transform.)\n",
    "\n",
    "How to resolve this\n",
    "- We use windowing."
   ]
  },
  {
   "cell_type": "code",
   "execution_count": null,
   "metadata": {},
   "outputs": [],
   "source": []
  },
  {
   "cell_type": "markdown",
   "metadata": {},
   "source": [
    "Windowing\n",
    "- We apply a windowing function before we feed the frames into the fourier transform\n",
    "- Eliminates samples at both ends of a frame.\n",
    "- Completely remove the end point information\n",
    "- Generates a periodic signal which removes spectral leakage.\n",
    "\n",
    "Hann window equation:\n",
    "$$\n",
    "w(k) = 0.5 \\times (1 - cos(\\frac{2 \\times \\pi \\times k}{K - 1})), k = 1...K)\n",
    "$$\n",
    "- The Hann windows is a function of the samples.\n",
    "- Where k = sample\n",
    "- Creates a bell shape curve where the endpoints converge to 0.\n",
    "\n",
    "\n",
    "For applying Hann window to original signal\n",
    "$$\n",
    "s_w(k) = s(k) \\times w(k), k = 1...k\n",
    "$$\n",
    "- We essentially multiply the original signal by the Hann window and each correspondent sample.\n",
    "- The signal essentially smoothens the endpoints -> no discontinuities.\n",
    "\n",
    "Issue:\n",
    "- Once we glue the frames together we lose signal as the endpoints all converge to 0.\n",
    "- To fix this we use overlapping frames."
   ]
  },
  {
   "cell_type": "code",
   "execution_count": null,
   "metadata": {},
   "outputs": [],
   "source": []
  },
  {
   "cell_type": "markdown",
   "metadata": {},
   "source": [
    "Overlapping frames:\n",
    "- To account for lost end-point information due to Hann windowing we overlap frames.\n",
    "- Hop length (size)\n",
    "    - amount of samples to shift by when taking a new frame.\n",
    "\n",
    "Total Frequency domain feature pipeline:\n",
    "- ADC -> Quant/Sample -> frame -> window -> fourier transform -> feature computation -> aggregation statistics -> feature value / vector / matrix"
   ]
  },
  {
   "cell_type": "code",
   "execution_count": null,
   "metadata": {},
   "outputs": [],
   "source": []
  },
  {
   "cell_type": "markdown",
   "metadata": {},
   "source": []
  }
 ],
 "metadata": {
  "kernelspec": {
   "display_name": "Python 3",
   "language": "python",
   "name": "python3"
  },
  "language_info": {
   "codemirror_mode": {
    "name": "ipython",
    "version": 3
   },
   "file_extension": ".py",
   "mimetype": "text/x-python",
   "name": "python",
   "nbconvert_exporter": "python",
   "pygments_lexer": "ipython3",
   "version": "3.11.1"
  },
  "orig_nbformat": 4,
  "vscode": {
   "interpreter": {
    "hash": "e7370f93d1d0cde622a1f8e1c04877d8463912d04d973331ad4851f04de6915a"
   }
  }
 },
 "nbformat": 4,
 "nbformat_minor": 2
}
