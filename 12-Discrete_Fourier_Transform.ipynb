{
 "cells": [
  {
   "cell_type": "code",
   "execution_count": null,
   "metadata": {},
   "outputs": [],
   "source": [
    "# :: 15th December 2022 (Monkey Day yesterday) :: @3:46pm"
   ]
  },
  {
   "attachments": {},
   "cell_type": "markdown",
   "metadata": {},
   "source": [
    "Continuos to Discrete (Digitalization)\n",
    "- When we digitize we transform\n",
    "    - $g(t) \\mapsto x(n)$\n",
    "        - n is a sample taken at time t\n",
    "    - $t = nT$"
   ]
  },
  {
   "cell_type": "code",
   "execution_count": null,
   "metadata": {},
   "outputs": [],
   "source": []
  },
  {
   "attachments": {},
   "cell_type": "markdown",
   "metadata": {},
   "source": [
    "Building the DFT:\n",
    "- Continuos:\n",
    "$$\n",
    "\\hat{g}(f) = \\int g(t) \\times e^{-i2\\pi ft_{dt}}\n",
    "$$\n",
    "\n",
    "- Discrete\n",
    "$$\n",
    "\\hat{x}(f) = \\sum_{n} x(n) \\times e^{-i2\\pi f n}\n",
    "$$\n",
    "where x = sample, n = sample at n, $\\sum$ = summation of samples, x(n) = the length of samples.\n",
    "\n",
    "- We still have problems with the DFT equation\n",
    "    - Shows continuous frequency and\n",
    "    - infinite time\n",
    "\n",
    "- Discrete\n",
    "$$\n",
    "\\hat{x}(f) = \\sum_{n} x(n) \\times e^{-i2\\pi f n}\n",
    "$$\n",
    "- n = infinite but we hack around"
   ]
  },
  {
   "cell_type": "code",
   "execution_count": null,
   "metadata": {},
   "outputs": [],
   "source": []
  },
  {
   "attachments": {},
   "cell_type": "markdown",
   "metadata": {},
   "source": [
    "Hack 1: Time\n",
    "- Frequencies that we decompose we want them to not be infintie obviously in time but 3mins etc\n",
    "- Consider $f$ to be non 0 in a finite time interval\n",
    "- such that $x(0), x(1), ..., x(N-1)$\n",
    "\n",
    "Hack 2: Frequency\n",
    "- Compute transform for finite # of frequencies\n",
    "- The amount of frequencies to consider...\n",
    "- #frequencies (M) = #samples (n)\n",
    "- Why M = N?\n",
    "    - So that we can make the transformation invertible\n",
    "    - and computationally efficient"
   ]
  },
  {
   "cell_type": "code",
   "execution_count": null,
   "metadata": {},
   "outputs": [],
   "source": []
  },
  {
   "attachments": {},
   "cell_type": "markdown",
   "metadata": {},
   "source": [
    "Hacked up Equation:\n",
    "$$\n",
    "\\hat{x}(k/N) = \\sum_{n=0}^{N-1} x(n) \\times e^{-i2\\pi n \\frac{k}{N}}\n",
    "$$\n",
    "- where k = [0,M-1] = [0,N-1], and has the same range as N\n",
    "\n",
    "Frequency wise this means\n",
    "$$\n",
    "F(k) = \\frac{k}{NT} = \\frac{ks_r}{N}\n",
    "$$\n",
    "- where the range of the output we have from the fourier transformation is between zero and the sampling rate."
   ]
  },
  {
   "attachments": {},
   "cell_type": "markdown",
   "metadata": {},
   "source": [
    "Redundancy in DFT:\n",
    "- If the lower most frequency regions energy distributions match the higher most there is redundant frequency. This happens when \n",
    "    - $k = N/2 \\to F(N/2) = s_r/2$\n",
    "- We are only interested in sampling rate / 2 and past that we don't care. \n",
    "- Aka the Nyquist Frequency... (threshold)"
   ]
  },
  {
   "attachments": {},
   "cell_type": "markdown",
   "metadata": {},
   "source": [
    "From DFT to FFT:\n",
    "- DFT is computationally expensive $(N^2)$\n",
    "- FFT is more efficient $(N log_2 N)$\n",
    "- FFT exploits redundancies across sinusoids\n",
    "- FFT works when N is a power of 2.\n",
    "    - Due to redunant freqs and other things."
   ]
  }
 ],
 "metadata": {
  "kernelspec": {
   "display_name": "Python 3",
   "language": "python",
   "name": "python3"
  },
  "language_info": {
   "name": "python",
   "version": "3.11.1"
  },
  "orig_nbformat": 4,
  "vscode": {
   "interpreter": {
    "hash": "e7370f93d1d0cde622a1f8e1c04877d8463912d04d973331ad4851f04de6915a"
   }
  }
 },
 "nbformat": 4,
 "nbformat_minor": 2
}
